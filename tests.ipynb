{
 "cells": [
  {
   "cell_type": "code",
   "execution_count": 1,
   "metadata": {},
   "outputs": [],
   "source": [
    "import matplotlib.pyplot as plt\n",
    "import matplotlib.animation\n",
    "import numpy as np\n",
    "from IPython.display import display, clear_output\n",
    "import  matplotlib.animation as animation\n",
    "import scipy.optimize as opt"
   ]
  },
  {
   "cell_type": "code",
   "execution_count": 2,
   "metadata": {},
   "outputs": [],
   "source": [
    "filepath = \"outputs/heatbath_test_out.txt\"\n",
    "plotData = []"
   ]
  },
  {
   "cell_type": "code",
   "execution_count": 3,
   "metadata": {},
   "outputs": [],
   "source": [
    "with open(filepath,'r') as inputfile:\n",
    "        for line in inputfile:\n",
    "            plotData.append(line.strip().split('\\t')) #Tab is used as seperator between values\n",
    "        for j in range(len(plotData)): #Cast list items from string to float type\n",
    "            plotData[j] = [float(plotData[j][i]) for i in range(len(plotData[0]))] # cast entries to float"
   ]
  },
  {
   "cell_type": "code",
   "execution_count": 12,
   "metadata": {},
   "outputs": [],
   "source": [
    "plotData = np.array(plotData)\n",
    "h = plotData[:,0]/500\n",
    "\n",
    "g = plotData[:,1]\n",
    "bins = 50"
   ]
  },
  {
   "cell_type": "code",
   "execution_count": 15,
   "metadata": {},
   "outputs": [],
   "source": [
    "x = np.linspace(-5, 5, 200)\n",
    "y = 1/np.sqrt(np.pi*2)*np.exp(-np.square(x)/2)"
   ]
  },
  {
   "cell_type": "code",
   "execution_count": 18,
   "metadata": {},
   "outputs": [
    {
     "data": {
      "text/plain": [
       "[<matplotlib.lines.Line2D at 0x7feeb674eac8>]"
      ]
     },
     "execution_count": 18,
     "metadata": {},
     "output_type": "execute_result"
    },
    {
     "data": {
      "image/png": "[encoded data removed]",
      "text/plain": [
       "<Figure size 432x288 with 1 Axes>"
      ]
     },
     "metadata": {},
     "output_type": "display_data"
    }
   ],
   "source": [
    "plt.hist(h, bins)\n",
    "plt.plot(x, y)"
   ]
  },
  {
   "cell_type": "code",
   "execution_count": 29,
   "metadata": {},
   "outputs": [
    {
     "data": {
      "text/plain": [
       "(array([ 1.,  1.,  0.,  0.,  1.,  1.,  1.,  3.,  4.,  4.,  3.,  5.,  3.,\n",
       "        10., 12., 10., 12., 12., 27., 24., 15., 27., 16., 18., 25., 26.,\n",
       "        26., 21., 20., 28., 17., 24., 16., 14., 13., 12., 10.,  7.,  6.,\n",
       "         3.,  2.,  9.,  1.,  0.,  4.,  1.,  2.,  1.,  1.,  1.]),\n",
       " array([-3.16750000e+00, -3.04567294e+00, -2.92384588e+00, -2.80201882e+00,\n",
       "        -2.68019176e+00, -2.55836470e+00, -2.43653764e+00, -2.31471058e+00,\n",
       "        -2.19288352e+00, -2.07105646e+00, -1.94922940e+00, -1.82740234e+00,\n",
       "        -1.70557528e+00, -1.58374822e+00, -1.46192116e+00, -1.34009410e+00,\n",
       "        -1.21826704e+00, -1.09643998e+00, -9.74612920e-01, -8.52785860e-01,\n",
       "        -7.30958800e-01, -6.09131740e-01, -4.87304680e-01, -3.65477620e-01,\n",
       "        -2.43650560e-01, -1.21823500e-01,  3.56000000e-06,  1.21830620e-01,\n",
       "         2.43657680e-01,  3.65484740e-01,  4.87311800e-01,  6.09138860e-01,\n",
       "         7.30965920e-01,  8.52792980e-01,  9.74620040e-01,  1.09644710e+00,\n",
       "         1.21827416e+00,  1.34010122e+00,  1.46192828e+00,  1.58375534e+00,\n",
       "         1.70558240e+00,  1.82740946e+00,  1.94923652e+00,  2.07106358e+00,\n",
       "         2.19289064e+00,  2.31471770e+00,  2.43654476e+00,  2.55837182e+00,\n",
       "         2.68019888e+00,  2.80202594e+00,  2.92385300e+00]),\n",
       " <a list of 50 Patch objects>)"
      ]
     },
     "execution_count": 29,
     "metadata": {},
     "output_type": "execute_result"
    },
    {
     "data": {
      "image/png": "[encoded data removed]",
      "text/plain": [
       "<Figure size 432x288 with 1 Axes>"
      ]
     },
     "metadata": {},
     "output_type": "display_data"
    }
   ],
   "source": [
    "plt.hist(g,50)"
   ]
  },
  {
   "cell_type": "code",
   "execution_count": 35,
   "metadata": {},
   "outputs": [
    {
     "name": "stdout",
     "output_type": "stream",
     "text": [
      "(200, 2)\n"
     ]
    }
   ],
   "source": [
    "plotData = []\n",
    "filepath = \"outputs/test_md_out.txt\"\n",
    "with open(filepath,'r') as inputfile:\n",
    "        for line in inputfile:\n",
    "            plotData.append(line.strip().split('\\t')) #Tab is used as seperator between values\n",
    "        for j in range(len(plotData)): #Cast list items from string to float type\n",
    "            plotData[j] = [float(plotData[j][i]) for i in range(len(plotData[0]))] # cast entries to float\n",
    "plotData = np.array(plotData)\n",
    "print(np.shape(plotData))\n",
    "x = plotData[20:,0]\n",
    "y = plotData[20:,1]"
   ]
  },
  {
   "cell_type": "code",
   "execution_count": 36,
   "metadata": {},
   "outputs": [
    {
     "data": {
      "text/plain": [
       "[<matplotlib.lines.Line2D at 0x7feeb6422710>]"
      ]
     },
     "execution_count": 36,
     "metadata": {},
     "output_type": "execute_result"
    },
    {
     "data": {
      "image/png": "[encoded data removed]",
      "text/plain": [
       "<Figure size 432x288 with 1 Axes>"
      ]
     },
     "metadata": {},
     "output_type": "display_data"
    }
   ],
   "source": [
    "plt.plot(x,y)"
   ]
  },
  {
   "cell_type": "code",
   "execution_count": null,
   "metadata": {},
   "outputs": [],
   "source": []
  }
 ],
 "metadata": {
  "kernelspec": {
   "display_name": "Python 3",
   "language": "python",
   "name": "python3"
  },
  "language_info": {
   "codemirror_mode": {
    "name": "ipython",
    "version": 3
   },
   "file_extension": ".py",
   "mimetype": "text/x-python",
   "name": "python",
   "nbconvert_exporter": "python",
   "pygments_lexer": "ipython3",
   "version": "3.6.9"
  }
 },
 "nbformat": 4,
 "nbformat_minor": 2
}
