{
 "cells": [
  {
   "cell_type": "markdown",
   "metadata": {},
   "source": [
    "# IPython Notebook for animation"
   ]
  },
  {
   "cell_type": "markdown",
   "metadata": {},
   "source": [
    "## Importing the required libraries"
   ]
  },
  {
   "cell_type": "code",
   "execution_count": 2,
   "metadata": {},
   "outputs": [],
   "source": [
    "import matplotlib.pyplot as plt\n",
    "import matplotlib.animation\n",
    "import numpy as np\n",
    "from IPython.display import display, clear_output\n",
    "import  matplotlib.animation as animation\n",
    "import scipy.optimize as opt"
   ]
  },
  {
   "cell_type": "code",
   "execution_count": 3,
   "metadata": {},
   "outputs": [],
   "source": [
    "from mcutils import *"
   ]
  },
  {
   "cell_type": "code",
   "execution_count": 5,
   "metadata": {},
   "outputs": [
    {
     "ename": "ValueError",
     "evalue": "could not convert string to float: 'Time'",
     "output_type": "error",
     "traceback": [
      "\u001b[1;31m---------------------------------------------------------------------------\u001b[0m",
      "\u001b[1;31mValueError\u001b[0m                                Traceback (most recent call last)",
      "\u001b[1;32m<ipython-input-5-9d3ccfceff11>\u001b[0m in \u001b[0;36m<module>\u001b[1;34m\u001b[0m\n\u001b[0;32m      1\u001b[0m \u001b[0mobsfilePath\u001b[0m \u001b[1;33m=\u001b[0m \u001b[1;34m'main_output.txt'\u001b[0m\u001b[1;33m\u001b[0m\u001b[1;33m\u001b[0m\u001b[0m\n\u001b[1;32m----> 2\u001b[1;33m \u001b[0mobsData\u001b[0m \u001b[1;33m=\u001b[0m \u001b[0mimportObsData\u001b[0m\u001b[1;33m(\u001b[0m\u001b[0mobsfilePath\u001b[0m\u001b[1;33m)\u001b[0m\u001b[1;33m\u001b[0m\u001b[1;33m\u001b[0m\u001b[0m\n\u001b[0m\u001b[0;32m      3\u001b[0m \u001b[0mmakePlot\u001b[0m\u001b[1;33m(\u001b[0m\u001b[1;33m[\u001b[0m\u001b[0mobsData\u001b[0m\u001b[1;33m[\u001b[0m\u001b[1;36m0\u001b[0m\u001b[1;33m]\u001b[0m\u001b[1;33m,\u001b[0m\u001b[0mobsData\u001b[0m\u001b[1;33m[\u001b[0m\u001b[1;36m3\u001b[0m\u001b[1;33m]\u001b[0m\u001b[1;33m]\u001b[0m\u001b[1;33m,\u001b[0m \u001b[1;34m\"potential energy\"\u001b[0m\u001b[1;33m)\u001b[0m\u001b[1;33m\u001b[0m\u001b[1;33m\u001b[0m\u001b[0m\n",
      "\u001b[1;32mD:\\Lennart\\Dokumente\\Studium\\cpii\\hmcp\\mcutils.py\u001b[0m in \u001b[0;36mimportObsData\u001b[1;34m(filepath)\u001b[0m\n\u001b[0;32m     18\u001b[0m             \u001b[0mobsData\u001b[0m\u001b[1;33m.\u001b[0m\u001b[0mappend\u001b[0m\u001b[1;33m(\u001b[0m\u001b[0mline\u001b[0m\u001b[1;33m.\u001b[0m\u001b[0mstrip\u001b[0m\u001b[1;33m(\u001b[0m\u001b[1;33m)\u001b[0m\u001b[1;33m.\u001b[0m\u001b[0msplit\u001b[0m\u001b[1;33m(\u001b[0m\u001b[1;34m'\\t'\u001b[0m\u001b[1;33m)\u001b[0m\u001b[1;33m)\u001b[0m\u001b[1;33m\u001b[0m\u001b[1;33m\u001b[0m\u001b[0m\n\u001b[0;32m     19\u001b[0m         \u001b[1;32mfor\u001b[0m \u001b[0mj\u001b[0m \u001b[1;32min\u001b[0m \u001b[0mrange\u001b[0m\u001b[1;33m(\u001b[0m\u001b[0mlen\u001b[0m\u001b[1;33m(\u001b[0m\u001b[0mobsData\u001b[0m\u001b[1;33m)\u001b[0m\u001b[1;33m)\u001b[0m\u001b[1;33m:\u001b[0m\u001b[1;33m\u001b[0m\u001b[1;33m\u001b[0m\u001b[0m\n\u001b[1;32m---> 20\u001b[1;33m             \u001b[0mobsData\u001b[0m\u001b[1;33m[\u001b[0m\u001b[0mj\u001b[0m\u001b[1;33m]\u001b[0m \u001b[1;33m=\u001b[0m \u001b[1;33m[\u001b[0m\u001b[0mfloat\u001b[0m\u001b[1;33m(\u001b[0m\u001b[0mobsData\u001b[0m\u001b[1;33m[\u001b[0m\u001b[0mj\u001b[0m\u001b[1;33m]\u001b[0m\u001b[1;33m[\u001b[0m\u001b[0mi\u001b[0m\u001b[1;33m]\u001b[0m\u001b[1;33m)\u001b[0m \u001b[1;32mfor\u001b[0m \u001b[0mi\u001b[0m \u001b[1;32min\u001b[0m \u001b[0mrange\u001b[0m\u001b[1;33m(\u001b[0m\u001b[0mlen\u001b[0m\u001b[1;33m(\u001b[0m\u001b[0mobsData\u001b[0m\u001b[1;33m[\u001b[0m\u001b[1;36m0\u001b[0m\u001b[1;33m]\u001b[0m\u001b[1;33m)\u001b[0m\u001b[1;33m)\u001b[0m\u001b[1;33m]\u001b[0m\u001b[1;33m\u001b[0m\u001b[1;33m\u001b[0m\u001b[0m\n\u001b[0m\u001b[0;32m     21\u001b[0m     \u001b[1;32mreturn\u001b[0m \u001b[0mnp\u001b[0m\u001b[1;33m.\u001b[0m\u001b[0marray\u001b[0m\u001b[1;33m(\u001b[0m\u001b[0mobsData\u001b[0m\u001b[1;33m)\u001b[0m\u001b[1;33m.\u001b[0m\u001b[0mT\u001b[0m\u001b[1;33m\u001b[0m\u001b[1;33m\u001b[0m\u001b[0m\n\u001b[0;32m     22\u001b[0m \u001b[1;33m\u001b[0m\u001b[0m\n",
      "\u001b[1;32mD:\\Lennart\\Dokumente\\Studium\\cpii\\hmcp\\mcutils.py\u001b[0m in \u001b[0;36m<listcomp>\u001b[1;34m(.0)\u001b[0m\n\u001b[0;32m     18\u001b[0m             \u001b[0mobsData\u001b[0m\u001b[1;33m.\u001b[0m\u001b[0mappend\u001b[0m\u001b[1;33m(\u001b[0m\u001b[0mline\u001b[0m\u001b[1;33m.\u001b[0m\u001b[0mstrip\u001b[0m\u001b[1;33m(\u001b[0m\u001b[1;33m)\u001b[0m\u001b[1;33m.\u001b[0m\u001b[0msplit\u001b[0m\u001b[1;33m(\u001b[0m\u001b[1;34m'\\t'\u001b[0m\u001b[1;33m)\u001b[0m\u001b[1;33m)\u001b[0m\u001b[1;33m\u001b[0m\u001b[1;33m\u001b[0m\u001b[0m\n\u001b[0;32m     19\u001b[0m         \u001b[1;32mfor\u001b[0m \u001b[0mj\u001b[0m \u001b[1;32min\u001b[0m \u001b[0mrange\u001b[0m\u001b[1;33m(\u001b[0m\u001b[0mlen\u001b[0m\u001b[1;33m(\u001b[0m\u001b[0mobsData\u001b[0m\u001b[1;33m)\u001b[0m\u001b[1;33m)\u001b[0m\u001b[1;33m:\u001b[0m\u001b[1;33m\u001b[0m\u001b[1;33m\u001b[0m\u001b[0m\n\u001b[1;32m---> 20\u001b[1;33m             \u001b[0mobsData\u001b[0m\u001b[1;33m[\u001b[0m\u001b[0mj\u001b[0m\u001b[1;33m]\u001b[0m \u001b[1;33m=\u001b[0m \u001b[1;33m[\u001b[0m\u001b[0mfloat\u001b[0m\u001b[1;33m(\u001b[0m\u001b[0mobsData\u001b[0m\u001b[1;33m[\u001b[0m\u001b[0mj\u001b[0m\u001b[1;33m]\u001b[0m\u001b[1;33m[\u001b[0m\u001b[0mi\u001b[0m\u001b[1;33m]\u001b[0m\u001b[1;33m)\u001b[0m \u001b[1;32mfor\u001b[0m \u001b[0mi\u001b[0m \u001b[1;32min\u001b[0m \u001b[0mrange\u001b[0m\u001b[1;33m(\u001b[0m\u001b[0mlen\u001b[0m\u001b[1;33m(\u001b[0m\u001b[0mobsData\u001b[0m\u001b[1;33m[\u001b[0m\u001b[1;36m0\u001b[0m\u001b[1;33m]\u001b[0m\u001b[1;33m)\u001b[0m\u001b[1;33m)\u001b[0m\u001b[1;33m]\u001b[0m\u001b[1;33m\u001b[0m\u001b[1;33m\u001b[0m\u001b[0m\n\u001b[0m\u001b[0;32m     21\u001b[0m     \u001b[1;32mreturn\u001b[0m \u001b[0mnp\u001b[0m\u001b[1;33m.\u001b[0m\u001b[0marray\u001b[0m\u001b[1;33m(\u001b[0m\u001b[0mobsData\u001b[0m\u001b[1;33m)\u001b[0m\u001b[1;33m.\u001b[0m\u001b[0mT\u001b[0m\u001b[1;33m\u001b[0m\u001b[1;33m\u001b[0m\u001b[0m\n\u001b[0;32m     22\u001b[0m \u001b[1;33m\u001b[0m\u001b[0m\n",
      "\u001b[1;31mValueError\u001b[0m: could not convert string to float: 'Time'"
     ]
    }
   ],
   "source": [
    "obsfilePath = 'main_output.txt'\n",
    "obsData = importObsData(obsfilePath)\n",
    "makePlot([obsData[0][1:],obsData[3][1:]], obsData[3][0]])"
   ]
  },
  {
   "cell_type": "code",
   "execution_count": 5,
   "metadata": {},
   "outputs": [
    {
     "data": {
      "image/png": "[encoded data removed]",
      "text/plain": [
       "<Figure size 432x288 with 1 Axes>"
      ]
     },
     "metadata": {},
     "output_type": "display_data"
    }
   ],
   "source": [
    "n_th = 10000\n",
    "noTherm = np.array(obsData[1][n_th:])\n",
    "k_max = 50\n",
    "autocorr_array = calc_autocorr(noTherm, k_max)\n",
    "fitParams = fit_autocorr_time(autocorr_array, k_max)\n",
    "tau_int = integrated_autocorr_time(autocorr_array)\n",
    "makeFitPlot(autocorr_array, k_max, fitParams[0], fitParams[1])"
   ]
  },
  {
   "cell_type": "code",
   "execution_count": 15,
   "metadata": {
    "scrolled": false
   },
   "outputs": [
    {
     "name": "stderr",
     "output_type": "stream",
     "text": [
      "/home/tim/code/MCising/mcutils.py:40: RuntimeWarning: overflow encountered in exp\n",
      "  exp_fit = lambda x, a, tau : a*np.exp(-x/tau)\n",
      "/home/tim/.local/lib/python3.6/site-packages/scipy/optimize/minpack.py:808: OptimizeWarning: Covariance of the parameters could not be estimated\n",
      "  category=OptimizeWarning)\n"
     ]
    },
    {
     "name": "stdout",
     "output_type": "stream",
     "text": [
      "0\n",
      "1\n",
      "2\n",
      "3\n",
      "4\n",
      "5\n",
      "6\n",
      "7\n",
      "8\n",
      "9\n",
      "10\n",
      "11\n"
     ]
    }
   ],
   "source": [
    "beta = [0.1, 0.3, 0.5, 0.7]\n",
    "B = [0., 0.01, 0.03]\n",
    "obsfilePath_list = ['params_out/out'+str(st)+'.txt' for st in range(12)]\n",
    "n_th_array = [10000 for i in range(12)]\n",
    "m_arr = np.zeros((3,4))\n",
    "\n",
    "observables = []\n",
    "\n",
    "for i in range(3):\n",
    "    for j in range(4):\n",
    "        obsData = importObsData(obsfilePath_list[i*4+j])\n",
    "        n_th = n_th_array[i*4+j]\n",
    "        k_max = 500\n",
    "        \n",
    "        energyNoTherm = np.array(obsData[1][n_th:])\n",
    "        energy_autocorr_array = calc_autocorr(energyNoTherm, k_max)\n",
    "        energyFitParams = fit_autocorr_time(energy_autocorr_array, k_max)\n",
    "        energy_tau_int = integrated_autocorr_time(energy_autocorr_array)\n",
    "        \n",
    "        magnNoTherm = np.array(obsData[2][n_th:])\n",
    "        magn_autocorr_array = calc_autocorr(magnNoTherm, k_max)\n",
    "        magnFitParams = fit_autocorr_time(magn_autocorr_array, k_max)\n",
    "        magn_tau_int = integrated_autocorr_time(magn_autocorr_array)\n",
    "        \n",
    "        observables.append([np.mean(energyNoTherm),np.std(energyNoTherm),np.std(energyNoTherm)/np.sqrt(len(energyNoTherm)/(2*energyFitParams[1])),energyFitParams[1],np.mean(magnNoTherm),np.std(magnNoTherm),np.std(magnNoTherm)/np.sqrt(len(magnNoTherm)/(2*magnFitParams[1])),magnFitParams[1]])\n",
    "        m_arr[i,j] = np.abs(np.mean(magnNoTherm))\n",
    "        print(4*i+j)"
   ]
  },
  {
   "cell_type": "code",
   "execution_count": 16,
   "metadata": {},
   "outputs": [
    {
     "data": {
      "text/plain": [
       "Text(0, 0.5, 'absolute magnetisation')"
      ]
     },
     "execution_count": 16,
     "metadata": {},
     "output_type": "execute_result"
    },
    {
     "data": {
      "image/png": "[encoded data removed]",
      "text/plain": [
       "<Figure size 432x288 with 1 Axes>"
      ]
     },
     "metadata": {},
     "output_type": "display_data"
    }
   ],
   "source": [
    "for i in range(len(B)):\n",
    "    plt.plot(beta, m_arr[i,:], label=('B='+str(B[i])))\n",
    "plt.legend()\n",
    "plt.xlabel(\"beta\")\n",
    "plt.ylabel(\"absolute magnetisation\")"
   ]
  },
  {
   "cell_type": "markdown",
   "metadata": {},
   "source": [
    "From the plot above we can see that there is a phase transition around beta=0.4.\n",
    "One can also see that even without a magnetic state, beta<0.3, with increasing external field\n",
    "that the magnetisation increases."
   ]
  },
  {
   "cell_type": "code",
   "execution_count": 15,
   "metadata": {},
   "outputs": [],
   "source": [
    "file = open(\"observables_results.txt\",\"w\")\n",
    "file.write(\"beta\\tB\\t<H>\\tsigma(h)\\terr(H)\\ttau_H\\t<M>\\tsigma(M)\\terr(M)\\ttau_M\\n\")\n",
    "for i in range(12):\n",
    "    file.write(\"%e\\t%e\"%(beta[i%4],B[i//4]))\n",
    "    for j in range(8):\n",
    "        file.write(\"\\t%e\"%observables[i][j])\n",
    "    file.write(\"\\n\")\n",
    "file.close()"
   ]
  },
  {
   "cell_type": "markdown",
   "metadata": {},
   "source": [
    "## Analytic Calculation of the Hamiltonian\n",
    "$$H(s)=-\\sum_{<xy>}s(x)s(y)-B\\sum_x s(x)$$\n",
    "1. system with all spins up s_1:\\\n",
    "The product $s(x)s(y)$ always takes a value 1 and there are N * D summands. The second sum has N summands which all add -B:\n",
    "$H(s_1)=-N*D-N*B$\n",
    " \n",
    "2. system with all spins down s_2:\\\n",
    "The product $s(x)s(y)$ always takes a value 1 and there are N * D summands. The second sum has N summands which all add +B:\n",
    "$H(s_2)=-N*D+N*B$\n",
    " \n",
    "3. system with alternating orientation of spins in index notation s_3:\\\n",
    "Every spin with an even index has a up position, every spin with a odd index has a down position. The next neighbours of spin with index i, s(i), are s(i+N^µ) with µ=0,...,D-1.\\\n",
    "case 1: N is even\\\n",
    "If N is even, every exponential N^µ is even, except for µ=0 where it is 1. So every product $s(x)s(y)$ except for µ=0 is a product between spins with even indeces or spins with odd indeces and is therefore 1, but the product with the next neighbour with µ=0 is -1. The first sum in $H(s)$ is therefore -N * (D-2). For even N there as many spin ups as there are spin downs and therefore the second sum equals zero:\\\n",
    "$H(s_3,N\\ even)=-N*(D-2)$ \\\n",
    "case 2: N is odd\\\n",
    "If N is odd, every exponential N^µ is odd. So every product $s(x)s(y)$ is a product between two spins with one even index and one odd index is therefore -1. The first sum in $H(s)$ is therefore N * D. For odd N there is one more even index and therefore the second sum delivers -B:\\\n",
    "$H(s_3,N\\ odd)=N*D-B$\\\n",
    "!!!! BUT odd N to not fullfill periodic boundary conditions !!!!"
   ]
  },
  {
   "cell_type": "markdown",
   "metadata": {},
   "source": [
    "## Generate animation"
   ]
  },
  {
   "cell_type": "code",
   "execution_count": null,
   "metadata": {},
   "outputs": [],
   "source": [
    "inputfilePath = 'config_output.txt'\n",
    "\n",
    "plotData = importPlotData(inputfilePath)\n",
    "\n",
    "fps = 5\n",
    "nSeconds = int(len(plotData)/fps)\n",
    "\n",
    "# First set up the figure, the axis, and the plot element we want to animate\n",
    "fig = plt.figure( figsize=(100,100) )\n",
    "\n",
    "plotData = plotData.reshape(len(plotData),100,100)\n",
    "im = plt.imshow(plotData[0], interpolation='none', aspect='auto', vmin=0, vmax=1)\n",
    "\n",
    "def animate_func(i):\n",
    "    if i % fps == 0:\n",
    "        print( '.', end ='' )\n",
    "\n",
    "    im.set_array(plotData[i])\n",
    "    return [im]\n",
    "\n",
    "anim = animation.FuncAnimation(fig, animate_func, frames = nSeconds * fps, interval = 1000 / fps)\n",
    "\n",
    "anim.save('test_anim.mp4', fps=fps, extra_args=['-vcodec', 'libx264'])\n",
    "\n",
    "print('Done!')"
   ]
  },
  {
   "cell_type": "code",
   "execution_count": null,
   "metadata": {},
   "outputs": [],
   "source": []
  }
 ],
 "metadata": {
  "kernelspec": {
   "display_name": "Python 3",
   "language": "python",
   "name": "python3"
  },
  "language_info": {
   "codemirror_mode": {
    "name": "ipython",
    "version": 3
   },
   "file_extension": ".py",
   "mimetype": "text/x-python",
   "name": "python",
   "nbconvert_exporter": "python",
   "pygments_lexer": "ipython3",
   "version": "3.7.4"
  }
 },
 "nbformat": 4,
 "nbformat_minor": 2
}
